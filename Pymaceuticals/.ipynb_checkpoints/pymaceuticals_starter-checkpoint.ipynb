{
 "cells": [
  {
   "cell_type": "markdown",
   "metadata": {},
   "source": [
    "## Observations and Insights"
   ]
  },
  {
   "cell_type": "markdown",
   "metadata": {},
   "source": []
  },
  {
   "cell_type": "markdown",
   "metadata": {},
   "source": [
    "## Dependencies and starter code"
   ]
  },
  {
   "cell_type": "code",
   "execution_count": 279,
   "metadata": {
    "scrolled": true
   },
   "outputs": [
    {
     "data": {
      "text/html": [
       "<div>\n",
       "<style scoped>\n",
       "    .dataframe tbody tr th:only-of-type {\n",
       "        vertical-align: middle;\n",
       "    }\n",
       "\n",
       "    .dataframe tbody tr th {\n",
       "        vertical-align: top;\n",
       "    }\n",
       "\n",
       "    .dataframe thead th {\n",
       "        text-align: right;\n",
       "    }\n",
       "</style>\n",
       "<table border=\"1\" class=\"dataframe\">\n",
       "  <thead>\n",
       "    <tr style=\"text-align: right;\">\n",
       "      <th></th>\n",
       "      <th>Mouse ID</th>\n",
       "      <th>Drug Regimen</th>\n",
       "      <th>Sex</th>\n",
       "      <th>Age_months</th>\n",
       "      <th>Weight (g)</th>\n",
       "      <th>Timepoint</th>\n",
       "      <th>Tumor Volume (mm3)</th>\n",
       "      <th>Metastatic Sites</th>\n",
       "    </tr>\n",
       "  </thead>\n",
       "  <tbody>\n",
       "    <tr>\n",
       "      <th>333</th>\n",
       "      <td>j119</td>\n",
       "      <td>Capomulin</td>\n",
       "      <td>Female</td>\n",
       "      <td>7</td>\n",
       "      <td>23</td>\n",
       "      <td>25</td>\n",
       "      <td>42.417166</td>\n",
       "      <td>1</td>\n",
       "    </tr>\n",
       "    <tr>\n",
       "      <th>296</th>\n",
       "      <td>b742</td>\n",
       "      <td>Capomulin</td>\n",
       "      <td>Male</td>\n",
       "      <td>7</td>\n",
       "      <td>21</td>\n",
       "      <td>30</td>\n",
       "      <td>39.167949</td>\n",
       "      <td>0</td>\n",
       "    </tr>\n",
       "    <tr>\n",
       "      <th>295</th>\n",
       "      <td>b742</td>\n",
       "      <td>Capomulin</td>\n",
       "      <td>Male</td>\n",
       "      <td>7</td>\n",
       "      <td>21</td>\n",
       "      <td>25</td>\n",
       "      <td>38.617684</td>\n",
       "      <td>0</td>\n",
       "    </tr>\n",
       "    <tr>\n",
       "      <th>294</th>\n",
       "      <td>b742</td>\n",
       "      <td>Capomulin</td>\n",
       "      <td>Male</td>\n",
       "      <td>7</td>\n",
       "      <td>21</td>\n",
       "      <td>20</td>\n",
       "      <td>37.950355</td>\n",
       "      <td>0</td>\n",
       "    </tr>\n",
       "    <tr>\n",
       "      <th>293</th>\n",
       "      <td>b742</td>\n",
       "      <td>Capomulin</td>\n",
       "      <td>Male</td>\n",
       "      <td>7</td>\n",
       "      <td>21</td>\n",
       "      <td>15</td>\n",
       "      <td>39.524843</td>\n",
       "      <td>0</td>\n",
       "    </tr>\n",
       "    <tr>\n",
       "      <th>...</th>\n",
       "      <td>...</td>\n",
       "      <td>...</td>\n",
       "      <td>...</td>\n",
       "      <td>...</td>\n",
       "      <td>...</td>\n",
       "      <td>...</td>\n",
       "      <td>...</td>\n",
       "      <td>...</td>\n",
       "    </tr>\n",
       "    <tr>\n",
       "      <th>645</th>\n",
       "      <td>c264</td>\n",
       "      <td>Zoniferol</td>\n",
       "      <td>Female</td>\n",
       "      <td>11</td>\n",
       "      <td>27</td>\n",
       "      <td>35</td>\n",
       "      <td>61.074795</td>\n",
       "      <td>2</td>\n",
       "    </tr>\n",
       "    <tr>\n",
       "      <th>646</th>\n",
       "      <td>c264</td>\n",
       "      <td>Zoniferol</td>\n",
       "      <td>Female</td>\n",
       "      <td>11</td>\n",
       "      <td>27</td>\n",
       "      <td>40</td>\n",
       "      <td>65.708323</td>\n",
       "      <td>2</td>\n",
       "    </tr>\n",
       "    <tr>\n",
       "      <th>647</th>\n",
       "      <td>c264</td>\n",
       "      <td>Zoniferol</td>\n",
       "      <td>Female</td>\n",
       "      <td>11</td>\n",
       "      <td>27</td>\n",
       "      <td>45</td>\n",
       "      <td>67.942121</td>\n",
       "      <td>2</td>\n",
       "    </tr>\n",
       "    <tr>\n",
       "      <th>1249</th>\n",
       "      <td>n967</td>\n",
       "      <td>Zoniferol</td>\n",
       "      <td>Male</td>\n",
       "      <td>11</td>\n",
       "      <td>27</td>\n",
       "      <td>10</td>\n",
       "      <td>47.471723</td>\n",
       "      <td>1</td>\n",
       "    </tr>\n",
       "    <tr>\n",
       "      <th>502</th>\n",
       "      <td>a401</td>\n",
       "      <td>Zoniferol</td>\n",
       "      <td>Female</td>\n",
       "      <td>8</td>\n",
       "      <td>25</td>\n",
       "      <td>5</td>\n",
       "      <td>46.111986</td>\n",
       "      <td>0</td>\n",
       "    </tr>\n",
       "  </tbody>\n",
       "</table>\n",
       "<p>1893 rows × 8 columns</p>\n",
       "</div>"
      ],
      "text/plain": [
       "     Mouse ID Drug Regimen     Sex  Age_months  Weight (g)  Timepoint  \\\n",
       "333      j119    Capomulin  Female           7          23         25   \n",
       "296      b742    Capomulin    Male           7          21         30   \n",
       "295      b742    Capomulin    Male           7          21         25   \n",
       "294      b742    Capomulin    Male           7          21         20   \n",
       "293      b742    Capomulin    Male           7          21         15   \n",
       "...       ...          ...     ...         ...         ...        ...   \n",
       "645      c264    Zoniferol  Female          11          27         35   \n",
       "646      c264    Zoniferol  Female          11          27         40   \n",
       "647      c264    Zoniferol  Female          11          27         45   \n",
       "1249     n967    Zoniferol    Male          11          27         10   \n",
       "502      a401    Zoniferol  Female           8          25          5   \n",
       "\n",
       "      Tumor Volume (mm3)  Metastatic Sites  \n",
       "333            42.417166                 1  \n",
       "296            39.167949                 0  \n",
       "295            38.617684                 0  \n",
       "294            37.950355                 0  \n",
       "293            39.524843                 0  \n",
       "...                  ...               ...  \n",
       "645            61.074795                 2  \n",
       "646            65.708323                 2  \n",
       "647            67.942121                 2  \n",
       "1249           47.471723                 1  \n",
       "502            46.111986                 0  \n",
       "\n",
       "[1893 rows x 8 columns]"
      ]
     },
     "execution_count": 279,
     "metadata": {},
     "output_type": "execute_result"
    }
   ],
   "source": [
    "# Dependencies and Setup\n",
    "import matplotlib.pyplot as plt\n",
    "import pandas as pd\n",
    "import scipy.stats as st\n",
    "import numpy as np \n",
    "# Study data files\n",
    "mouse_metadata = \"data/Mouse_metadata.csv\"\n",
    "study_results = \"data/Study_results.csv\"\n",
    "\n",
    "# Read the mouse data and the study results\n",
    "mouse_metadata = pd.read_csv(mouse_metadata)\n",
    "study_results = pd.read_csv(study_results)\n",
    "\n",
    "# Combine the data into a single dataset\n",
    "complete_data_df = pd.merge(mouse_metadata,study_results,on=\"Mouse ID\")\n",
    "complete_data_df = complete_data_df.sort_values(\"Drug Regimen\")\n",
    "\n",
    "complete_data_df.to_csv(\"Data/Complete_data.csv\")\n",
    "complete_data_df"
   ]
  },
  {
   "cell_type": "markdown",
   "metadata": {},
   "source": [
    "## Summary statistics"
   ]
  },
  {
   "cell_type": "code",
   "execution_count": 277,
   "metadata": {},
   "outputs": [],
   "source": [
    "pd.DataFrame.idxmax?"
   ]
  },
  {
   "cell_type": "code",
   "execution_count": 4,
   "metadata": {},
   "outputs": [
    {
     "data": {
      "text/html": [
       "<div>\n",
       "<style scoped>\n",
       "    .dataframe tbody tr th:only-of-type {\n",
       "        vertical-align: middle;\n",
       "    }\n",
       "\n",
       "    .dataframe tbody tr th {\n",
       "        vertical-align: top;\n",
       "    }\n",
       "\n",
       "    .dataframe thead th {\n",
       "        text-align: right;\n",
       "    }\n",
       "</style>\n",
       "<table border=\"1\" class=\"dataframe\">\n",
       "  <thead>\n",
       "    <tr style=\"text-align: right;\">\n",
       "      <th></th>\n",
       "      <th>Drug Regimen</th>\n",
       "      <th>Mean</th>\n",
       "      <th>Median</th>\n",
       "      <th>Variance</th>\n",
       "      <th>Standard Deviation</th>\n",
       "      <th>Standard Error of Means</th>\n",
       "    </tr>\n",
       "  </thead>\n",
       "  <tbody>\n",
       "    <tr>\n",
       "      <th>0</th>\n",
       "      <td>Capomulin</td>\n",
       "      <td>40.675741</td>\n",
       "      <td>41.557809</td>\n",
       "      <td>24.947764</td>\n",
       "      <td>4.994774</td>\n",
       "      <td>0.329346</td>\n",
       "    </tr>\n",
       "    <tr>\n",
       "      <th>1</th>\n",
       "      <td>Ceftamin</td>\n",
       "      <td>52.591172</td>\n",
       "      <td>51.776157</td>\n",
       "      <td>39.290177</td>\n",
       "      <td>6.268188</td>\n",
       "      <td>0.469821</td>\n",
       "    </tr>\n",
       "    <tr>\n",
       "      <th>2</th>\n",
       "      <td>Infubinol</td>\n",
       "      <td>52.884795</td>\n",
       "      <td>51.820584</td>\n",
       "      <td>43.128684</td>\n",
       "      <td>6.567243</td>\n",
       "      <td>0.492236</td>\n",
       "    </tr>\n",
       "    <tr>\n",
       "      <th>3</th>\n",
       "      <td>Ketapril</td>\n",
       "      <td>55.235638</td>\n",
       "      <td>53.698743</td>\n",
       "      <td>68.553577</td>\n",
       "      <td>8.279709</td>\n",
       "      <td>0.603860</td>\n",
       "    </tr>\n",
       "    <tr>\n",
       "      <th>4</th>\n",
       "      <td>Naftisol</td>\n",
       "      <td>54.331565</td>\n",
       "      <td>52.509285</td>\n",
       "      <td>66.173479</td>\n",
       "      <td>8.134708</td>\n",
       "      <td>0.596466</td>\n",
       "    </tr>\n",
       "    <tr>\n",
       "      <th>5</th>\n",
       "      <td>Placebo</td>\n",
       "      <td>54.033581</td>\n",
       "      <td>52.288934</td>\n",
       "      <td>61.168083</td>\n",
       "      <td>7.821003</td>\n",
       "      <td>0.581331</td>\n",
       "    </tr>\n",
       "    <tr>\n",
       "      <th>6</th>\n",
       "      <td>Propriva</td>\n",
       "      <td>52.368318</td>\n",
       "      <td>50.909965</td>\n",
       "      <td>42.278090</td>\n",
       "      <td>6.502160</td>\n",
       "      <td>0.514041</td>\n",
       "    </tr>\n",
       "    <tr>\n",
       "      <th>7</th>\n",
       "      <td>Ramicane</td>\n",
       "      <td>40.216745</td>\n",
       "      <td>40.673236</td>\n",
       "      <td>23.486704</td>\n",
       "      <td>4.846308</td>\n",
       "      <td>0.320955</td>\n",
       "    </tr>\n",
       "    <tr>\n",
       "      <th>8</th>\n",
       "      <td>Stelasyn</td>\n",
       "      <td>54.233149</td>\n",
       "      <td>52.431737</td>\n",
       "      <td>59.450562</td>\n",
       "      <td>7.710419</td>\n",
       "      <td>0.573111</td>\n",
       "    </tr>\n",
       "    <tr>\n",
       "      <th>9</th>\n",
       "      <td>Zoniferol</td>\n",
       "      <td>53.236507</td>\n",
       "      <td>51.818479</td>\n",
       "      <td>48.533355</td>\n",
       "      <td>6.966589</td>\n",
       "      <td>0.516398</td>\n",
       "    </tr>\n",
       "  </tbody>\n",
       "</table>\n",
       "</div>"
      ],
      "text/plain": [
       "  Drug Regimen       Mean     Median   Variance  Standard Deviation  \\\n",
       "0    Capomulin  40.675741  41.557809  24.947764            4.994774   \n",
       "1     Ceftamin  52.591172  51.776157  39.290177            6.268188   \n",
       "2    Infubinol  52.884795  51.820584  43.128684            6.567243   \n",
       "3     Ketapril  55.235638  53.698743  68.553577            8.279709   \n",
       "4     Naftisol  54.331565  52.509285  66.173479            8.134708   \n",
       "5      Placebo  54.033581  52.288934  61.168083            7.821003   \n",
       "6     Propriva  52.368318  50.909965  42.278090            6.502160   \n",
       "7     Ramicane  40.216745  40.673236  23.486704            4.846308   \n",
       "8     Stelasyn  54.233149  52.431737  59.450562            7.710419   \n",
       "9    Zoniferol  53.236507  51.818479  48.533355            6.966589   \n",
       "\n",
       "   Standard Error of Means  \n",
       "0                 0.329346  \n",
       "1                 0.469821  \n",
       "2                 0.492236  \n",
       "3                 0.603860  \n",
       "4                 0.596466  \n",
       "5                 0.581331  \n",
       "6                 0.514041  \n",
       "7                 0.320955  \n",
       "8                 0.573111  \n",
       "9                 0.516398  "
      ]
     },
     "execution_count": 4,
     "metadata": {},
     "output_type": "execute_result"
    }
   ],
   "source": [
    "# Generate a summary statistics table of mean, median, variance, standard deviation, and SEM of the tumor volume for each regimen\n",
    "drug_reg = complete_data_df.groupby(\"Drug Regimen\")\n",
    "\n",
    "\n",
    "mean_tum_vol = drug_reg[\"Tumor Volume (mm3)\"].mean()\n",
    "median_tum_vol = drug_reg[\"Tumor Volume (mm3)\"].median()\n",
    "var_tum_vol = drug_reg[\"Tumor Volume (mm3)\"].var()\n",
    "std_tum_vol = drug_reg[\"Tumor Volume (mm3)\"].std()\n",
    "sem_tum_vol = drug_reg[\"Tumor Volume (mm3)\"].sem()\n",
    "\n",
    "summary_stats_tumor_vol_by_reg_df = pd.DataFrame({\"Mean\":mean_tum_vol,\n",
    "                                                 \"Median\":median_tum_vol,\n",
    "                                                 \"Variance\":var_tum_vol,\n",
    "                                                 \"Standard Deviation\": std_tum_vol,\n",
    "                                                 \"Standard Error of Means\":sem_tum_vol\n",
    "                                                 })\n",
    "summary_stats_tumor_vol_by_reg_df = summary_stats_tumor_vol_by_reg_df.reset_index()\n",
    "summary_stats_tumor_vol_by_reg_df"
   ]
  },
  {
   "cell_type": "markdown",
   "metadata": {},
   "source": [
    "## Bar plots"
   ]
  },
  {
   "cell_type": "code",
   "execution_count": 237,
   "metadata": {
    "scrolled": true
   },
   "outputs": [
    {
     "data": {
      "image/png": "[encoded data removed]",
      "text/plain": [
       "<Figure size 2160x360 with 1 Axes>"
      ]
     },
     "metadata": {
      "needs_background": "light"
     },
     "output_type": "display_data"
    }
   ],
   "source": [
    "# Generate a bar plot showing number of data points for each treatment regimen using panda\n",
    "y_axis = pd.DataFrame(complete_data_df[\"Drug Regimen\"].value_counts())\n",
    "y_axis.plot(kind=\"bar\", figsize=(30,5),color='green',alpha=.5,title=\"Count of mice on each drug regimen\")\n",
    "plt.xlabel(\"Drug Regimen\")\n",
    "plt.ylabel(\"Count\")\n",
    "plt.xlim(len(y_axis)-10.5,len(y_axis)-.5)\n",
    "plt.ylim(0,max(y_axis[\"Drug Regimen\"])+25)\n",
    "\n",
    "plt.show()\n"
   ]
  },
  {
   "cell_type": "code",
   "execution_count": 229,
   "metadata": {
    "scrolled": true
   },
   "outputs": [
    {
     "data": {
      "image/png": "[encoded data removed]",
      "text/plain": [
       "<Figure size 2160x360 with 1 Axes>"
      ]
     },
     "metadata": {
      "needs_background": "light"
     },
     "output_type": "display_data"
    }
   ],
   "source": [
    "# Generate a bar plot showing number of data points for each treatment regimen using pyplot\n",
    "data = complete_data_df[\"Drug Regimen\"]\n",
    "y_axis = data.value_counts()\n",
    "x_axis = y_axis.index\n",
    "plt.figure(figsize=(30,5))\n",
    "plt.bar(x_axis,y_axis,color='orange',alpha=.5)\n",
    "plt.xlabel(\"Drug Regimen\")\n",
    "plt.ylabel(\"Count\")\n",
    "plt.title(\"Count of mice on each Drug Regimen\")\n",
    "plt.xlim(len(x_axis)-10.5,len(x_axis)-.5)\n",
    "plt.ylim(0,max(y_axis)+25)\n",
    "plt.show()"
   ]
  },
  {
   "cell_type": "markdown",
   "metadata": {},
   "source": [
    "## Pie plots"
   ]
  },
  {
   "cell_type": "code",
   "execution_count": 9,
   "metadata": {},
   "outputs": [
    {
     "data": {
      "text/plain": [
       "<matplotlib.axes._subplots.AxesSubplot at 0x119445160>"
      ]
     },
     "execution_count": 9,
     "metadata": {},
     "output_type": "execute_result"
    },
    {
     "data": {
      "image/png": "[encoded data removed]",
      "text/plain": [
       "<Figure size 432x288 with 1 Axes>"
      ]
     },
     "metadata": {},
     "output_type": "display_data"
    }
   ],
   "source": [
    "# Generate a pie plot showing the distribution of female versus male mice using pandas\n",
    "gender = complete_data_df.groupby(\"Sex\").count()\n",
    "gender = gender[\"Mouse ID\"]\n",
    "gender.plot(kind=\"pie\",title=\"Gender breakdown\",autopct=\"%.2f%%\")\n",
    "\n"
   ]
  },
  {
   "cell_type": "code",
   "execution_count": 10,
   "metadata": {},
   "outputs": [
    {
     "data": {
      "text/plain": [
       "Text(0.5, 1.0, 'Gender breakdown')"
      ]
     },
     "execution_count": 10,
     "metadata": {},
     "output_type": "execute_result"
    },
    {
     "data": {
      "image/png": "[encoded data removed]",
      "text/plain": [
       "<Figure size 432x288 with 1 Axes>"
      ]
     },
     "metadata": {},
     "output_type": "display_data"
    }
   ],
   "source": [
    "# Generate a pie plot showing the distribution of female versus male mice using pyplot\n",
    "male = complete_data_df.loc[complete_data_df[\"Sex\"]==\"Male\"]\n",
    "male_count = (male[\"Sex\"]).count()\n",
    "\n",
    "female = complete_data_df.loc[complete_data_df[\"Sex\"]==\"Female\"]\n",
    "female_count = (female[\"Sex\"]).count()\n",
    "\n",
    "gender_count = [female_count,male_count]\n",
    "\n",
    "labels = [\"Female\",\"Male\"]\n",
    "\n",
    "plt.pie(gender_count,labels=labels,autopct=\"%.2f%%\")\n",
    "plt.title(\"Gender breakdown\")"
   ]
  },
  {
   "cell_type": "markdown",
   "metadata": {},
   "source": [
    "## Quartiles, outliers and boxplots"
   ]
  },
  {
   "cell_type": "code",
   "execution_count": 319,
   "metadata": {},
   "outputs": [
    {
     "name": "stdout",
     "output_type": "stream",
     "text": [
      "Ramicane Drug Regimen and Tumor Volume (mm3)\n",
      "--------------------------------------------\n",
      "The lower quartile of Ramicane is: 31.56046955\n",
      "The upper quartile of Ramicane is: 40.65900627\n",
      "The interquartile range of Ramicane is: 9.098536719999998\n",
      "The the median of Ramicane is: 36.56165229 \n",
      "Values below 17.912664470000003 could be outliers.\n",
      "Values above 54.30681135 could be outliers.\n",
      "--------------------------------------------\n",
      "Capomulin Drug Regimen and Tumor Volume (mm3)\n",
      "--------------------------------------------\n",
      "The lower quartile of Capomulin is: 32.37735684\n",
      "The upper quartile of Capomulin is: 40.1592203\n",
      "The interquartile range of Capomulin is: 7.781863460000004\n",
      "The the median of Capomulin is: 38.125164399999996 \n",
      "Values below 20.70456164999999 could be outliers.\n",
      "Values above 51.83201549 could be outliers.\n",
      "--------------------------------------------\n",
      "Infubinol Drug Regimen and Tumor Volume (mm3)\n",
      "--------------------------------------------\n",
      "The lower quartile of Infubinol is: 54.04860769\n",
      "The upper quartile of Infubinol is: 65.52574285\n",
      "The interquartile range of Infubinol is: 11.477135160000003\n",
      "The the median of Infubinol is: 60.16518046 \n",
      "Values below 36.83290494999999 could be outliers.\n",
      "Values above 82.74144559000001 could be outliers.\n",
      "--------------------------------------------\n",
      "Ceftamin Drug Regimen and Tumor Volume (mm3)\n",
      "--------------------------------------------\n",
      "The lower quartile of Ceftamin is: 48.72207785\n",
      "The upper quartile of Ceftamin is: 64.29983003\n",
      "The interquartile range of Ceftamin is: 15.577752179999997\n",
      "The the median of Ceftamin is: 59.85195552\n",
      "Values below 25.355449580000002 could be outliers.\n",
      "Values above 87.66645829999999 could be outliers.\n",
      "--------------------------------------------\n"
     ]
    }
   ],
   "source": [
    "# Calculate the final tumor volume of each mouse across four of the most promising treatment regimens. Calculate the IQR and quantitatively determine if there are any potential outliers.\n",
    "sorted_by_promise_df = complete_data_df.sort_values(\"Tumor Volume (mm3)\",ascending=True)\n",
    "sorted_by_promise_array = sorted_by_promise_df[\"Drug Regimen\"].unique()\n",
    "\n",
    "Ramicane_one = complete_data_df.loc[complete_data_df[\"Drug Regimen\"] == sorted_by_promise_array[0]]\n",
    "Capomulin_two = complete_data_df.loc[complete_data_df[\"Drug Regimen\"] == sorted_by_promise_array[1]]\n",
    "Infubinol_three = complete_data_df.loc[complete_data_df[\"Drug Regimen\"] == sorted_by_promise_array[2]]\n",
    "Ceftamin_four = complete_data_df.loc[complete_data_df[\"Drug Regimen\"] == sorted_by_promise_array[-1]]\n",
    "\n",
    "\n",
    "Ramicane_max_timepoint_by_mouse = Ramicane_one.loc[Ramicane_one.groupby(\"Mouse ID\").Timepoint.idxmax()]\n",
    "Capomulin_max_timepoint_by_mouse = Capomulin_two.loc[Capomulin_two.groupby(\"Mouse ID\").Timepoint.idxmax()]\n",
    "Infubinol_max_timepoint_by_mouse = Infubinol_three.loc[Infubinol_three.groupby(\"Mouse ID\").Timepoint.idxmax()]\n",
    "Ceftamin_max_timepoint_by_mouse = Ceftamin_four.loc[Ceftamin_four.groupby(\"Mouse ID\").Timepoint.idxmax()]\n",
    "\n",
    "\n",
    "#Ramicane IQR stats\n",
    "quartiles = Ramicane_max_timepoint_by_mouse[\"Tumor Volume (mm3)\"].quantile([.25,.5,.75])\n",
    "lowerq = quartiles[0.25]\n",
    "upperq = quartiles[0.75]\n",
    "iqr = upperq-lowerq\n",
    "lower_bound = lowerq - (1.5*iqr)\n",
    "upper_bound = upperq + (1.5*iqr)\n",
    "print(\"Ramicane Drug Regimen and Tumor Volume (mm3)\")\n",
    "print(\"--------------------------------------------\")\n",
    "print(f\"The lower quartile of Ramicane is: {lowerq}\")\n",
    "print(f\"The upper quartile of Ramicane is: {upperq}\")\n",
    "print(f\"The interquartile range of Ramicane is: {iqr}\")\n",
    "print(f\"The the median of Ramicane is: {quartiles[0.5]} \")\n",
    "print(f\"Values below {lower_bound} could be outliers.\")\n",
    "print(f\"Values above {upper_bound} could be outliers.\")\n",
    "print(\"--------------------------------------------\")\n",
    "\n",
    "#Capomulin IQR stats\n",
    "quartiles = Capomulin_max_timepoint_by_mouse[\"Tumor Volume (mm3)\"].quantile([.25,.5,.75])\n",
    "lowerq = quartiles[0.25]\n",
    "upperq = quartiles[0.75]\n",
    "iqr = upperq-lowerq\n",
    "lower_bound = lowerq - (1.5*iqr)\n",
    "upper_bound = upperq + (1.5*iqr)\n",
    "print(\"Capomulin Drug Regimen and Tumor Volume (mm3)\")\n",
    "print(\"--------------------------------------------\")\n",
    "print(f\"The lower quartile of Capomulin is: {lowerq}\")\n",
    "print(f\"The upper quartile of Capomulin is: {upperq}\")\n",
    "print(f\"The interquartile range of Capomulin is: {iqr}\")\n",
    "print(f\"The the median of Capomulin is: {quartiles[0.5]} \")\n",
    "print(f\"Values below {lower_bound} could be outliers.\")\n",
    "print(f\"Values above {upper_bound} could be outliers.\")\n",
    "print(\"--------------------------------------------\")\n",
    "\n",
    "#Infubinol IQR stats\n",
    "quartiles = Infubinol_max_timepoint_by_mouse[\"Tumor Volume (mm3)\"].quantile([.25,.5,.75])\n",
    "lowerq = quartiles[0.25]\n",
    "upperq = quartiles[0.75]\n",
    "iqr = upperq-lowerq\n",
    "lower_bound = lowerq - (1.5*iqr)\n",
    "upper_bound = upperq + (1.5*iqr)\n",
    "print(\"Infubinol Drug Regimen and Tumor Volume (mm3)\")\n",
    "print(\"--------------------------------------------\")\n",
    "print(f\"The lower quartile of Infubinol is: {lowerq}\")\n",
    "print(f\"The upper quartile of Infubinol is: {upperq}\")\n",
    "print(f\"The interquartile range of Infubinol is: {iqr}\")\n",
    "print(f\"The the median of Infubinol is: {quartiles[0.5]} \")\n",
    "print(f\"Values below {lower_bound} could be outliers.\")\n",
    "print(f\"Values above {upper_bound} could be outliers.\")\n",
    "print(\"--------------------------------------------\")\n",
    "\n",
    "#Ceftamin IQR stats\n",
    "quartiles = Ceftamin_max_timepoint_by_mouse[\"Tumor Volume (mm3)\"].quantile([.25,.5,.75])\n",
    "lowerq = quartiles[0.25]\n",
    "upperq = quartiles[0.75]\n",
    "iqr = upperq-lowerq\n",
    "lower_bound = lowerq - (1.5*iqr)\n",
    "upper_bound = upperq + (1.5*iqr)\n",
    "print(\"Ceftamin Drug Regimen and Tumor Volume (mm3)\")\n",
    "print(\"--------------------------------------------\")\n",
    "print(f\"The lower quartile of Ceftamin is: {lowerq}\")\n",
    "print(f\"The upper quartile of Ceftamin is: {upperq}\")\n",
    "print(f\"The interquartile range of Ceftamin is: {iqr}\")\n",
    "print(f\"The the median of Ceftamin is: {quartiles[0.5]}\")\n",
    "print(f\"Values below {lower_bound} could be outliers.\")\n",
    "print(f\"Values above {upper_bound} could be outliers.\")\n",
    "print(\"--------------------------------------------\")\n"
   ]
  },
  {
   "cell_type": "code",
   "execution_count": 320,
   "metadata": {},
   "outputs": [
    {
     "data": {
      "image/png": "[encoded data removed]",
      "text/plain": [
       "<Figure size 432x288 with 1 Axes>"
      ]
     },
     "metadata": {
      "needs_background": "light"
     },
     "output_type": "display_data"
    }
   ],
   "source": [
    "# Generate a box plot of the final tumor volume of each mouse across four regimens of interest\n",
    "regimen = [\"Ramicane\",\"Capomulin\",\"Infubinol\",\"Ceftamin\"]\n",
    "data = [Ramicane_max_timepoint_by_mouse[\"Tumor Volume (mm3)\"],Capomulin_max_timepoint_by_mouse[\"Tumor Volume (mm3)\"],Infubinol_max_timepoint_by_mouse[\"Tumor Volume (mm3)\"],Ceftamin_max_timepoint_by_mouse[\"Tumor Volume (mm3)\"]]\n",
    "fig, ax = plt.subplots()\n",
    "ax.boxplot(data)\n",
    "ax.set_xticklabels(regimen)\n",
    "ax.set_xlabel(\"Drug Regimen\")\n",
    "ax.set_ylabel(\"Tumor Volume (mm3)\")\n",
    "ax.set_title(\"Drug Regimen Distributions\")\n",
    "ax.set_xlim(len(regimen)-3.5,len(regimen)+.5)\n",
    "ax.grid(axis=\"y\")\n",
    "plt.show()\n"
   ]
  },
  {
   "cell_type": "markdown",
   "metadata": {},
   "source": [
    "## Line and scatter plots"
   ]
  },
  {
   "cell_type": "code",
   "execution_count": 276,
   "metadata": {},
   "outputs": [
    {
     "data": {
      "image/png": "[encoded data removed]",
      "text/plain": [
       "<Figure size 432x288 with 1 Axes>"
      ]
     },
     "metadata": {
      "needs_background": "light"
     },
     "output_type": "display_data"
    }
   ],
   "source": [
    "# Generate a line plot of time point versus tumor volume for a mouse treated with Capomulin\n",
    "mouse_id = \"l509\"\n",
    "drug = \"Capomulin\"\n",
    "\n",
    "cap_by_ID  = Capomulin_two.set_index(\"Mouse ID\")\n",
    "one_mouse_cap_drug = cap_by_ID.loc[mouse_id,:]\n",
    "one_mouse_cap_drug\n",
    "x_time = one_mouse_cap_drug[\"Timepoint\"]\n",
    "y_tumor_vol = one_mouse_cap_drug[\"Tumor Volume (mm3)\"]\n",
    "\n",
    "plt.plot(x_time,y_tumor_vol,label=mouse_id)\n",
    "plt.title(f'Mouse {mouse_id} and its tumor volume over time')\n",
    "plt.ylabel(\"Tumor Volume (mm3)\")\n",
    "plt.xlabel(\"Time\")\n",
    "plt.xlim(min(x_time),max(x_time)+1)\n",
    "plt.legend([mouse_id])\n",
    "plt.grid()\n",
    "plt.show()"
   ]
  },
  {
   "cell_type": "code",
   "execution_count": 270,
   "metadata": {},
   "outputs": [
    {
     "data": {
      "image/png": "[encoded data removed]",
      "text/plain": [
       "<Figure size 432x288 with 1 Axes>"
      ]
     },
     "metadata": {
      "needs_background": "light"
     },
     "output_type": "display_data"
    }
   ],
   "source": [
    "# Generate a scatter plot of mouse weight versus average tumor volume for the Capomulin regimen\n",
    "Capomulin_two \n",
    "weight_tumor_Cap_by_Mouse = Capomulin_two.groupby(\"Mouse ID\").mean()\n",
    "weight_tumor_Cap_by_Mouse\n",
    "x_values = weight_tumor_Cap_by_Mouse[\"Weight (g)\"]\n",
    "y_values = weight_tumor_Cap_by_Mouse[\"Tumor Volume (mm3)\"]\n",
    "\n",
    "plt.scatter(x_values,y_values)\n",
    "plt.plot(x_values,pred_y,\"r-\")\n",
    "plt.annotate(regres_model,(20,36),fontsize=15,color=\"red\")\n",
    "plt.xlabel(\"Weight (g)\")\n",
    "plt.ylabel(\"Tumor Volume (mm3)\")\n",
    "plt.title(\"Weight by Tumor Volume for Capomulin Regimen\")\n",
    "plt.grid()\n",
    "plt.show()"
   ]
  },
  {
   "cell_type": "code",
   "execution_count": 212,
   "metadata": {},
   "outputs": [
    {
     "data": {
      "text/plain": [
       "0.7088568047708727"
      ]
     },
     "execution_count": 212,
     "metadata": {},
     "output_type": "execute_result"
    }
   ],
   "source": [
    "# Calculate the correlation coefficient and linear regression model for mouse weight and average tumor volume for the Capomulin regimen\n",
    "#Linear Regression Model \n",
    "(slope, intercept, rvalue, pvalue, stderr) = st.linregress(x_values, y_values)\n",
    "pred_y = x_values * slope + intercept\n",
    "regres_model = \"y = \" + str(round(slope,2)) + \"x + \" + str(round(intercept,2))\n",
    "#Correlation Coefficiant\n",
    "correl_coeff = rvalue**2\n",
    "correl_coeff\n",
    "\n"
   ]
  },
  {
   "cell_type": "code",
   "execution_count": null,
   "metadata": {},
   "outputs": [],
   "source": []
  }
 ],
 "metadata": {
  "anaconda-cloud": {},
  "kernelspec": {
   "display_name": "Python 3",
   "language": "python",
   "name": "python3"
  },
  "language_info": {
   "codemirror_mode": {
    "name": "ipython",
    "version": 3
   },
   "file_extension": ".py",
   "mimetype": "text/x-python",
   "name": "python",
   "nbconvert_exporter": "python",
   "pygments_lexer": "ipython3",
   "version": "3.6.10"
  }
 },
 "nbformat": 4,
 "nbformat_minor": 2
}
